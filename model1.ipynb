{
 "cells": [
  {
   "cell_type": "code",
   "execution_count": 9,
   "metadata": {},
   "outputs": [],
   "source": [
    "import numpy as np\n",
    "import pandas as pd\n",
    "from sklearn.linear_model import LogisticRegression\n",
    "import pickle\n",
    "\n",
    "\n",
    "#load the csv and take selected cols as predictors with target as species col\n",
    "iris = pd.read_csv(\"iris.csv\")\n",
    "\n",
    "\n",
    "features = ['sepal_width', 'sepal_length', 'petal_width', 'petal_length']\n",
    "X = iris[features]\n",
    "y = iris['species']\n",
    "\n",
    "\n",
    "train = iris[:(int((len(iris)*0.8)))]\n",
    "test = iris[(int((len(iris)*0.8))):]\n",
    "\n",
    "model = LogisticRegression(solver='lbfgs', multi_class='ovr')\n",
    "train_x = np.array(train[features])\n",
    "train_y = np.array(train['species'])\n",
    "test_x = np.array(test[features])\n",
    "test_y = np.array(test['species'])\n",
    "\n",
    "model.fit(train_x, train_y)\n",
    "\n",
    "\n",
    "\n",
    "filename = 'model.pkl'\n",
    "pickle.dump(model, open(filename, 'wb'))\n"
   ]
  },
  {
   "cell_type": "code",
   "execution_count": null,
   "metadata": {},
   "outputs": [],
   "source": []
  }
 ],
 "metadata": {
  "interpreter": {
   "hash": "1e30a87c23b496c4e96f59c744ace6d9b11cda43a97961d0872782a46b1ad25c"
  },
  "kernelspec": {
   "display_name": "Python 3.7.4 64-bit ('base': conda)",
   "name": "python3"
  },
  "language_info": {
   "codemirror_mode": {
    "name": "ipython",
    "version": 3
   },
   "file_extension": ".py",
   "mimetype": "text/x-python",
   "name": "python",
   "nbconvert_exporter": "python",
   "pygments_lexer": "ipython3",
   "version": "3.7.4"
  },
  "orig_nbformat": 4
 },
 "nbformat": 4,
 "nbformat_minor": 2
}
